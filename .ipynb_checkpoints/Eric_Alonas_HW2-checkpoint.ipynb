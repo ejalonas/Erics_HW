{
 "cells": [
  {
   "cell_type": "markdown",
   "metadata": {},
   "source": [
    "# Problem 1"
   ]
  },
  {
   "cell_type": "markdown",
   "metadata": {},
   "source": [
    "A training set is a fraction of the available data used create/train a machine learning model. A test set is a fraction of the available data that is reserved to test the model performance after it has been created, this is necessary to prevent the model from \"memorizing\" the data set."
   ]
  },
  {
   "cell_type": "markdown",
   "metadata": {},
   "source": [
    "# Problem 2"
   ]
  },
  {
   "cell_type": "markdown",
   "metadata": {},
   "source": [
    "It is necessary to reserve data in order to prevent memorizing the data and over fitting."
   ]
  },
  {
   "cell_type": "markdown",
   "metadata": {},
   "source": [
    "# Problem 3"
   ]
  },
  {
   "cell_type": "markdown",
   "metadata": {},
   "source": [
    "Advantages: simple, easy to implement, no assumptions. Disadvantages: features must be on same scale, slow/suffers from large data sets and large number of features (must calculate the distance for all data points/features."
   ]
  },
  {
   "cell_type": "markdown",
   "metadata": {},
   "source": [
    "# Problem 4"
   ]
  },
  {
   "cell_type": "markdown",
   "metadata": {},
   "source": [
    "Bias is the difference between the expected value of the model and the actual data. Variance is the expected difference between the value of the model for a given x and it's expected value, squared. Low complexity models are insensitive, highly biased, giving the similar results despite changes in the underlying data. High complexity models are super-sensitivt, highly variant, giving widely different results for differnt datasets."
   ]
  },
  {
   "cell_type": "markdown",
   "metadata": {},
   "source": [
    "# Problem 5"
   ]
  },
  {
   "cell_type": "markdown",
   "metadata": {},
   "source": [
    "At low k, KNN suffers from high bias. At high K it suffers from high variance."
   ]
  },
  {
   "cell_type": "markdown",
   "metadata": {},
   "source": [
    "# Problem 6"
   ]
  },
  {
   "cell_type": "markdown",
   "metadata": {},
   "source": [
    "When suffering high variance, reduce features or switch to a more biased model."
   ]
  },
  {
   "cell_type": "markdown",
   "metadata": {},
   "source": [
    "# Problem 7"
   ]
  },
  {
   "cell_type": "markdown",
   "metadata": {},
   "source": [
    "When suffering from high bias, add more features or swtich to a less biased model."
   ]
  },
  {
   "cell_type": "markdown",
   "metadata": {},
   "source": [
    "# Problem 8"
   ]
  },
  {
   "cell_type": "markdown",
   "metadata": {},
   "source": [
    "Cross validation"
   ]
  },
  {
   "cell_type": "markdown",
   "metadata": {},
   "source": [
    "# Question 1"
   ]
  },
  {
   "cell_type": "markdown",
   "metadata": {},
   "source": [
    "### Load in data and scale"
   ]
  },
  {
   "cell_type": "code",
   "execution_count": 53,
   "metadata": {
    "collapsed": false
   },
   "outputs": [],
   "source": [
    "import pandas as pd\n",
    "import numpy as np\n",
    "import matplotlib.pyplot as plt\n",
    "%matplotlib inline\n",
    "\n",
    "prostate = pd.read_csv('https://raw.githubusercontent.com/galvin-mj/DAT_ATL_15/master/Datasets/ProstateCancer.csv')\n",
    "prostate.head()\n",
    "del prostate['Unnamed: 0']\n",
    "prostate_train = prostate[prostate['train'] == 'T']\n",
    "prostate_test = prostate[prostate['train'] == 'F'] \n",
    "\n",
    "from sklearn import preprocessing\n",
    "x_train = preprocessing.scale(prostate_train.loc[:,'lcavol':'pgg45'])\n",
    "y_train = preprocessing.scale(prostate_train.loc[:,'lpsa'])\n",
    "x_test = preprocessing.scale(prostate_test.loc[:,'lcavol':'pgg45'])\n",
    "y_test = preprocessing.scale(prostate_test.loc[:,'lpsa'])\n"
   ]
  },
  {
   "cell_type": "markdown",
   "metadata": {},
   "source": [
    "### Linear regression"
   ]
  },
  {
   "cell_type": "code",
   "execution_count": 52,
   "metadata": {
    "collapsed": false
   },
   "outputs": [
    {
     "name": "stdout",
     "output_type": "stream",
     "text": [
      "MSE is 0.521274005508\n"
     ]
    }
   ],
   "source": [
    "from sklearn import linear_model\n",
    "model = linear_model.LinearRegression()\n",
    "\n",
    "model.fit(prostate_train.loc[:,'lcavol':'pgg45'].values.reshape(67,8),prostate_train.loc[:,'lpsa'].values.reshape(67,1))\n",
    "#model.fit(x_train,y_train)\n",
    "\n",
    "prediction = model.predict(prostate_test.loc[:,'lcavol':'pgg45'].values.reshape(30,8))\n",
    "#prediction = model.predict(x_test)\n",
    "\n",
    "from sklearn import metrics\n",
    "MSE = metrics.mean_squared_error(prostate_test.loc[:,'lpsa'],prediction)\n",
    "\n",
    "print \"MSE is\", MSE"
   ]
  },
  {
   "cell_type": "code",
   "execution_count": 3,
   "metadata": {
    "collapsed": false
   },
   "outputs": [
    {
     "data": {
      "text/html": [
       "<div>\n",
       "<table border=\"1\" class=\"dataframe\">\n",
       "  <thead>\n",
       "    <tr style=\"text-align: right;\">\n",
       "      <th></th>\n",
       "      <th>lcavol</th>\n",
       "      <th>lweight</th>\n",
       "      <th>age</th>\n",
       "      <th>lbph</th>\n",
       "      <th>svi</th>\n",
       "      <th>lcp</th>\n",
       "      <th>gleason</th>\n",
       "      <th>pgg45</th>\n",
       "    </tr>\n",
       "  </thead>\n",
       "  <tbody>\n",
       "    <tr>\n",
       "      <th>lcavol</th>\n",
       "      <td>1.000000</td>\n",
       "      <td>0.203455</td>\n",
       "      <td>0.096055</td>\n",
       "      <td>-0.076500</td>\n",
       "      <td>0.398673</td>\n",
       "      <td>0.636998</td>\n",
       "      <td>0.453406</td>\n",
       "      <td>0.309566</td>\n",
       "    </tr>\n",
       "    <tr>\n",
       "      <th>lweight</th>\n",
       "      <td>0.203455</td>\n",
       "      <td>1.000000</td>\n",
       "      <td>0.526248</td>\n",
       "      <td>0.495874</td>\n",
       "      <td>0.072752</td>\n",
       "      <td>0.205169</td>\n",
       "      <td>0.173297</td>\n",
       "      <td>0.257143</td>\n",
       "    </tr>\n",
       "    <tr>\n",
       "      <th>age</th>\n",
       "      <td>0.096055</td>\n",
       "      <td>0.526248</td>\n",
       "      <td>1.000000</td>\n",
       "      <td>0.543672</td>\n",
       "      <td>0.079422</td>\n",
       "      <td>0.049455</td>\n",
       "      <td>0.092624</td>\n",
       "      <td>0.230829</td>\n",
       "    </tr>\n",
       "    <tr>\n",
       "      <th>lbph</th>\n",
       "      <td>-0.076500</td>\n",
       "      <td>0.495874</td>\n",
       "      <td>0.543672</td>\n",
       "      <td>1.000000</td>\n",
       "      <td>0.043540</td>\n",
       "      <td>0.175657</td>\n",
       "      <td>0.170479</td>\n",
       "      <td>0.379522</td>\n",
       "    </tr>\n",
       "    <tr>\n",
       "      <th>svi</th>\n",
       "      <td>0.398673</td>\n",
       "      <td>0.072752</td>\n",
       "      <td>0.079422</td>\n",
       "      <td>0.043540</td>\n",
       "      <td>1.000000</td>\n",
       "      <td>0.683579</td>\n",
       "      <td>0.356348</td>\n",
       "      <td>0.394816</td>\n",
       "    </tr>\n",
       "    <tr>\n",
       "      <th>lcp</th>\n",
       "      <td>0.636998</td>\n",
       "      <td>0.205169</td>\n",
       "      <td>0.049455</td>\n",
       "      <td>0.175657</td>\n",
       "      <td>0.683579</td>\n",
       "      <td>1.000000</td>\n",
       "      <td>0.593699</td>\n",
       "      <td>0.582940</td>\n",
       "    </tr>\n",
       "    <tr>\n",
       "      <th>gleason</th>\n",
       "      <td>0.453406</td>\n",
       "      <td>0.173297</td>\n",
       "      <td>0.092624</td>\n",
       "      <td>0.170479</td>\n",
       "      <td>0.356348</td>\n",
       "      <td>0.593699</td>\n",
       "      <td>1.000000</td>\n",
       "      <td>0.782083</td>\n",
       "    </tr>\n",
       "    <tr>\n",
       "      <th>pgg45</th>\n",
       "      <td>0.309566</td>\n",
       "      <td>0.257143</td>\n",
       "      <td>0.230829</td>\n",
       "      <td>0.379522</td>\n",
       "      <td>0.394816</td>\n",
       "      <td>0.582940</td>\n",
       "      <td>0.782083</td>\n",
       "      <td>1.000000</td>\n",
       "    </tr>\n",
       "  </tbody>\n",
       "</table>\n",
       "</div>"
      ],
      "text/plain": [
       "           lcavol   lweight       age      lbph       svi       lcp   gleason  \\\n",
       "lcavol   1.000000  0.203455  0.096055 -0.076500  0.398673  0.636998  0.453406   \n",
       "lweight  0.203455  1.000000  0.526248  0.495874  0.072752  0.205169  0.173297   \n",
       "age      0.096055  0.526248  1.000000  0.543672  0.079422  0.049455  0.092624   \n",
       "lbph    -0.076500  0.495874  0.543672  1.000000  0.043540  0.175657  0.170479   \n",
       "svi      0.398673  0.072752  0.079422  0.043540  1.000000  0.683579  0.356348   \n",
       "lcp      0.636998  0.205169  0.049455  0.175657  0.683579  1.000000  0.593699   \n",
       "gleason  0.453406  0.173297  0.092624  0.170479  0.356348  0.593699  1.000000   \n",
       "pgg45    0.309566  0.257143  0.230829  0.379522  0.394816  0.582940  0.782083   \n",
       "\n",
       "            pgg45  \n",
       "lcavol   0.309566  \n",
       "lweight  0.257143  \n",
       "age      0.230829  \n",
       "lbph     0.379522  \n",
       "svi      0.394816  \n",
       "lcp      0.582940  \n",
       "gleason  0.782083  \n",
       "pgg45    1.000000  "
      ]
     },
     "execution_count": 3,
     "metadata": {},
     "output_type": "execute_result"
    }
   ],
   "source": [
    "prostate_test.loc[:,'lcavol':'pgg45'].corr()"
   ]
  },
  {
   "cell_type": "markdown",
   "metadata": {
    "collapsed": false
   },
   "source": [
    "### KNN"
   ]
  },
  {
   "cell_type": "code",
   "execution_count": 44,
   "metadata": {
    "collapsed": false
   },
   "outputs": [
    {
     "data": {
      "text/plain": [
       "GridSearchCV(cv=None, error_score='raise',\n",
       "       estimator=KNeighborsRegressor(algorithm='auto', leaf_size=30, metric='minkowski',\n",
       "          metric_params=None, n_neighbors=5, p=2, weights='uniform'),\n",
       "       fit_params={}, iid=True, loss_func=None, n_jobs=1,\n",
       "       param_grid=[{'n_neighbors': [1, 2, 3, 4, 5, 6, 7, 8, 9, 10]}],\n",
       "       pre_dispatch='2*n_jobs', refit=True, score_func=None, scoring=None,\n",
       "       verbose=0)"
      ]
     },
     "execution_count": 44,
     "metadata": {},
     "output_type": "execute_result"
    }
   ],
   "source": [
    "from sklearn import grid_search\n",
    "from sklearn import neighbors\n",
    "param_grid = [{'n_neighbors':[1,2,3,4,5,6,7,8,9,10]}]\n",
    "knn = neighbors.KNeighborsRegressor()\n",
    "rgr = grid_search.GridSearchCV(knn, param_grid)\n",
    "#rgr.fit(prostate_train.loc[:,'lcavol':'pgg45'].values.reshape(67,8),prostate_train.loc[:,'lpsa'].values.reshape(67,1))\n",
    "rgr.fit(x_train,y_train)"
   ]
  },
  {
   "cell_type": "code",
   "execution_count": 45,
   "metadata": {
    "collapsed": false
   },
   "outputs": [
    {
     "data": {
      "text/plain": [
       "{'n_neighbors': 6}"
      ]
     },
     "execution_count": 45,
     "metadata": {},
     "output_type": "execute_result"
    }
   ],
   "source": [
    "rgr.best_params_"
   ]
  },
  {
   "cell_type": "code",
   "execution_count": 46,
   "metadata": {
    "collapsed": false
   },
   "outputs": [
    {
     "data": {
      "text/plain": [
       "KNeighborsRegressor(algorithm='auto', leaf_size=30, metric='minkowski',\n",
       "          metric_params=None, n_neighbors=6, p=2, weights='uniform')"
      ]
     },
     "execution_count": 46,
     "metadata": {},
     "output_type": "execute_result"
    }
   ],
   "source": [
    "knn2 = neighbors.KNeighborsRegressor(n_neighbors=6)\n",
    "#knn2.fit(prostate_train.loc[:,'lcavol':'pgg45'].values.reshape(67,8),prostate_train.loc[:,'lpsa'].values.reshape(67,1))\n",
    "knn2.fit(x_train, y_train)"
   ]
  },
  {
   "cell_type": "code",
   "execution_count": 47,
   "metadata": {
    "collapsed": true
   },
   "outputs": [],
   "source": [
    "#prediction = knn2.predict(prostate_test.loc[:,'lcavol':'pgg45'].values.reshape(30,8))\n",
    "prediction = knn2.predict(x_test)"
   ]
  },
  {
   "cell_type": "code",
   "execution_count": 48,
   "metadata": {
    "collapsed": false
   },
   "outputs": [
    {
     "name": "stdout",
     "output_type": "stream",
     "text": [
      "MSE is 0.649347684238\n"
     ]
    }
   ],
   "source": [
    "from sklearn import metrics\n",
    "#MSE = metrics.mean_squared_error(prostate_test.loc[:,'lpsa'],prediction)\n",
    "#MSE = metrics.mean_squared_error(prostate_test.loc[:,'lpsa'],prediction)\n",
    "print \"MSE is\", MSE"
   ]
  },
  {
   "cell_type": "markdown",
   "metadata": {},
   "source": [
    "### Ridge regression"
   ]
  },
  {
   "cell_type": "code",
   "execution_count": 8,
   "metadata": {
    "collapsed": false
   },
   "outputs": [
    {
     "data": {
      "text/plain": [
       "GridSearchCV(cv=None, error_score='raise',\n",
       "       estimator=Ridge(alpha=1.0, copy_X=True, fit_intercept=True, max_iter=None,\n",
       "   normalize=False, solver='auto', tol=0.001),\n",
       "       fit_params={}, iid=True, loss_func=None, n_jobs=1,\n",
       "       param_grid=[{'alpha': array([  1.00000e-08,   1.00100e-01, ...,   9.98999e+01,   1.00000e+02])}],\n",
       "       pre_dispatch='2*n_jobs', refit=True, score_func=None, scoring=None,\n",
       "       verbose=0)"
      ]
     },
     "execution_count": 8,
     "metadata": {},
     "output_type": "execute_result"
    }
   ],
   "source": [
    "param_grid = [{'alpha' : np.linspace(1e-8,100,1000)}]\n",
    "ridge_rgr = linear_model.Ridge()\n",
    "model = grid_search.GridSearchCV(ridge_rgr, param_grid)\n",
    "model.fit(prostate_train.loc[:,'lcavol':'pgg45'].values.reshape(67,8), prostate_train.loc[:,'lpsa'].values.reshape(67,1))"
   ]
  },
  {
   "cell_type": "code",
   "execution_count": 9,
   "metadata": {
    "collapsed": false
   },
   "outputs": [
    {
     "data": {
      "text/plain": [
       "Ridge(alpha=13.213213221891895, copy_X=True, fit_intercept=True,\n",
       "   max_iter=None, normalize=False, solver='auto', tol=0.001)"
      ]
     },
     "execution_count": 9,
     "metadata": {},
     "output_type": "execute_result"
    }
   ],
   "source": [
    "model.best_estimator_"
   ]
  },
  {
   "cell_type": "code",
   "execution_count": 10,
   "metadata": {
    "collapsed": false
   },
   "outputs": [
    {
     "name": "stdout",
     "output_type": "stream",
     "text": [
      "MSE is 0.536514610654\n"
     ]
    }
   ],
   "source": [
    "ridge_rgr2 = linear_model.Ridge(alpha = 13.213)\n",
    "ridge_rgr2.fit(prostate_train.loc[:,'lcavol':'pgg45'], prostate_train.loc[:,'lpsa'])\n",
    "prediction = ridge_rgr2.predict(prostate_test.loc[:,'lcavol':'pgg45'])\n",
    "MSE = metrics.mean_squared_error(prostate_test.loc[:,'lpsa'],prediction)\n",
    "print \"MSE is\", MSE"
   ]
  },
  {
   "cell_type": "code",
   "execution_count": 11,
   "metadata": {
    "collapsed": false
   },
   "outputs": [
    {
     "data": {
      "text/plain": [
       "array([ 0.50645309,  0.32838737, -0.01167671,  0.15833893,  0.26606546,\n",
       "       -0.04698465, -0.04025554,  0.00914797])"
      ]
     },
     "execution_count": 11,
     "metadata": {},
     "output_type": "execute_result"
    }
   ],
   "source": [
    "ridge_rgr2.coef_"
   ]
  },
  {
   "cell_type": "markdown",
   "metadata": {},
   "source": [
    "### Lasso Regression"
   ]
  },
  {
   "cell_type": "code",
   "execution_count": 12,
   "metadata": {
    "collapsed": false
   },
   "outputs": [
    {
     "data": {
      "text/plain": [
       "LassoCV(alphas=None, copy_X=True, cv=None, eps=0.001, fit_intercept=True,\n",
       "    max_iter=1000, n_alphas=100, n_jobs=1, normalize=False, positive=False,\n",
       "    precompute='auto', random_state=None, selection='cyclic', tol=0.0001,\n",
       "    verbose=False)"
      ]
     },
     "execution_count": 12,
     "metadata": {},
     "output_type": "execute_result"
    }
   ],
   "source": [
    "param_grid = [{'alpha' : np.linspace(1e-8,100,1000)}]\n",
    "lasso_rgr = linear_model.LassoCV()\n",
    "lasso_rgr.fit(prostate_train.loc[:,'lcavol':'pgg45'].values.reshape(67,8), prostate_train.loc[:,'lpsa'])"
   ]
  },
  {
   "cell_type": "code",
   "execution_count": 13,
   "metadata": {
    "collapsed": false
   },
   "outputs": [],
   "source": [
    "prediction = lasso_rgr.predict(prostate_test.loc[:,'lcavol':'pgg45'].values.reshape(30,8))"
   ]
  },
  {
   "cell_type": "code",
   "execution_count": 14,
   "metadata": {
    "collapsed": false
   },
   "outputs": [
    {
     "data": {
      "text/plain": [
       "0.50120731274596808"
      ]
     },
     "execution_count": 14,
     "metadata": {},
     "output_type": "execute_result"
    }
   ],
   "source": [
    "metrics.mean_squared_error(prostate_test.loc[:,'lpsa'], prediction)"
   ]
  },
  {
   "cell_type": "code",
   "execution_count": 15,
   "metadata": {
    "collapsed": false
   },
   "outputs": [
    {
     "data": {
      "text/plain": [
       "array([ 0.5567728 ,  0.51482158, -0.01587486,  0.13875931,  0.4492253 ,\n",
       "       -0.10959259, -0.        ,  0.00811275])"
      ]
     },
     "execution_count": 15,
     "metadata": {},
     "output_type": "execute_result"
    }
   ],
   "source": [
    "lasso_rgr.coef_"
   ]
  },
  {
   "cell_type": "code",
   "execution_count": null,
   "metadata": {
    "collapsed": true
   },
   "outputs": [],
   "source": []
  },
  {
   "cell_type": "code",
   "execution_count": null,
   "metadata": {
    "collapsed": true
   },
   "outputs": [],
   "source": []
  }
 ],
 "metadata": {
  "kernelspec": {
   "display_name": "Python 2",
   "language": "python",
   "name": "python2"
  },
  "language_info": {
   "codemirror_mode": {
    "name": "ipython",
    "version": 2
   },
   "file_extension": ".py",
   "mimetype": "text/x-python",
   "name": "python",
   "nbconvert_exporter": "python",
   "pygments_lexer": "ipython2",
   "version": "2.7.10"
  }
 },
 "nbformat": 4,
 "nbformat_minor": 0
}
